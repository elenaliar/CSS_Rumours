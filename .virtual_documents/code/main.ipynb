from ca_lecture_hall_model import Grid, generate_gif


# Generate a grid for given size, density and spread threshold
size = 20
density = 0.7
spread_threshold = 0.3

g = Grid(size, density, spread_threshold)


# Initialize the board and set the initial spreader
g.initialize_board()
g.show_grid()


generate_gif(g, steps=20, gif_name="spread_simulation.gif")









