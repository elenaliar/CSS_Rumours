{
 "cells": [
  {
   "cell_type": "code",
   "execution_count": null,
   "metadata": {},
   "outputs": [],
   "source": [
    "%matplotlib inline\n",
    "\n",
    "import numpy as np\n",
    "import matplotlib.pyplot as plt\n",
    "from matplotlib import animation, rc\n",
    "from IPython.display import HTML"
   ]
  },
  {
   "cell_type": "markdown",
   "metadata": {},
   "source": [
    "# Preliminaries"
   ]
  },
  {
   "cell_type": "code",
   "execution_count": null,
   "metadata": {},
   "outputs": [],
   "source": [
    "# this is how you plot an array of 0,1 values\n",
    "a = np.random.randint(2, size=[10,30])\n",
    "im = plt.imshow(a)\n",
    "plt.show()"
   ]
  },
  {
   "cell_type": "markdown",
   "metadata": {},
   "source": [
    "# Elementary Cellular Automata"
   ]
  },
  {
   "cell_type": "code",
   "execution_count": null,
   "metadata": {},
   "outputs": [],
   "source": [
    "n = 30  # number of cells\n",
    "T = 50  # number of time steps"
   ]
  },
  {
   "cell_type": "code",
   "execution_count": null,
   "metadata": {},
   "outputs": [],
   "source": [
    "transition_table = {\n",
    "    (0,0,0): 1,\n",
    "    (0,0,1): 0,\n",
    "    (0,1,0): 1,\n",
    "    (0,1,1): 0,\n",
    "    (1,0,0): 1,\n",
    "    (1,0,1): 1,\n",
    "    (1,1,0): 0,\n",
    "    (1,1,1): 1,\n",
    "}"
   ]
  },
  {
   "cell_type": "code",
   "execution_count": null,
   "metadata": {},
   "outputs": [],
   "source": [
    "def next_state(cur_state):\n",
    "    next_state_ret = []\n",
    "    for cix, cell_value in enumerate(cur_state):\n",
    "        next_state_ret.append(transition_table[(cur_state[(cix-1)%n], cur_state[cix%n], cur_state[(cix+1)%n])])\n",
    "    return next_state_ret"
   ]
  },
  {
   "cell_type": "code",
   "execution_count": null,
   "metadata": {},
   "outputs": [],
   "source": [
    "# works\n",
    "np.array(next_state(np.random.randint(2, size=n)))"
   ]
  },
  {
   "cell_type": "code",
   "execution_count": null,
   "metadata": {},
   "outputs": [],
   "source": [
    "state_array = [np.random.randint(2, size=n)]\n",
    "\n",
    "for t in range(T):\n",
    "    state_array.append(next_state(state_array[-1]))\n",
    "\n",
    "plt.imshow(state_array)\n",
    "plt.show()"
   ]
  },
  {
   "cell_type": "markdown",
   "metadata": {},
   "source": [
    "# Animating a sequence of two-dimensional arrays\n",
    "\n",
    "*Note*: you should probably have 'ffmpeg' installed. If you do not then do e.g. \n",
    "\n",
    "```\n",
    "sudo apt-get install ffmpeg\n",
    "``` \n",
    "\n",
    "or follow https://www.wikihow.com/Install-FFmpeg-on-Windows for Windows."
   ]
  },
  {
   "cell_type": "code",
   "execution_count": null,
   "metadata": {},
   "outputs": [],
   "source": [
    "L = 50\n",
    "T = 50"
   ]
  },
  {
   "cell_type": "code",
   "execution_count": null,
   "metadata": {},
   "outputs": [],
   "source": [
    "def show_state_over_time(states_over_time):\n",
    "    '''\n",
    "    @param states_over_time: a TxLxL array for T time steps and a system size of LxL.\n",
    "    '''\n",
    "    assert np.ndim(states_over_time) == 3\n",
    "    \n",
    "    num_time_steps = np.shape(states_over_time)[0]\n",
    "    \n",
    "    # First set up the figure, the axis, and the plot element we want to animate\n",
    "    fig = plt.figure()\n",
    "    im = plt.imshow(np.random.randint(3, size=(L,L)), animated=True)\n",
    "    \n",
    "    # animation function. This is called sequentially\n",
    "    def animate(i):\n",
    "        im.set_array(states_over_time[i])\n",
    "        return im,\n",
    "\n",
    "    # call the animator.  blit=True means only re-draw the parts that have changed.\n",
    "    anim = animation.FuncAnimation(fig, animate, frames=num_time_steps, interval=200, blit=True)\n",
    "\n",
    "    # save the animation as an mp4.  This requires ffmpeg or mencoder to be\n",
    "    # installed.  The extra_args ensure that the x264 codec is used, so that\n",
    "    # the video can be embedded in html5.  You may need to adjust this for\n",
    "    # your system: for more information, see\n",
    "    # http://matplotlib.sourceforge.net/api/animation_api.html\n",
    "    # anim.save('basic_animation.mp4', fps=30, extra_args=['-vcodec', 'libx264'])\n",
    "\n",
    "    return HTML(anim.to_html5_video())\n",
    "#     rc('animation', html='html5')\n",
    "#     return anim"
   ]
  },
  {
   "cell_type": "code",
   "execution_count": null,
   "metadata": {},
   "outputs": [],
   "source": [
    "# here you should supply an array of LxL sized arrays, which are the time steps of the 2D CA. \n",
    "# For this example I simply supply random values.\n",
    "show_state_over_time(np.random.randint(2, size=(T,L,L)))\n",
    "\n",
    "# note: for some reason the initial imagine is also displayed, I don't know why, just ignore it. A bonus mark \n",
    "# for the one who figures out a way to get rid of it."
   ]
  },
  {
   "cell_type": "markdown",
   "metadata": {},
   "source": [
    "# Assignment\n",
    "\n",
    "Implement a forest fire two-dimensional cellular automaton, simulate it for a sufficient number of time steps and a system size of at least $50 \\times 50$, and visualize its temporal evolution for different initial settings (at least density). Let the fire (or epidemic) start from the left of the CA, so all trees in the left-most column start as on-fire. Use fixed boundary conditions. Use the simulation outputs to support your answers to the following questions:\n",
    "\n",
    "1. What is the critical value for the density of trees (or susceptible persons) in order to have system-wide fire spreading (epidemics)? Use a deterministic forest fire model.\n",
    "2. Now choose an infection probability and use it to probabilistically infect a cell, independently once per infected neighbor. What is the new critical density?\n",
    "3. Now make the neighborhood radius $r=2$ instead of the current $r=1$. How does this influence the critical density?\n",
    "4. Use your previous numerical results to briefly comment on the likelihood of global pandemics under the influence of growing connectivity and growing densities of people in the world. \n",
    "5. (Bonus) Add another aspect to the spreading phenomenon and show how this influences the spreading and critical density. Possible ideas:\n",
    "  1. Let each person (infected or susceptible) randomly move around, 1 cell per time step. Note that this cannot be implemented perfectly in the CA formalism. Either deviate from the strict CA formalism or try to maintain conservation of people on average, using appropriate probabilities for movement versus random removal of persons.\n",
    "  2. Add blocking structures where no person can stand.\n",
    "  3. Add a fraction of immune persons.\n",
    "  4. Add a rate of regeneration of persons and use periodic boundary conditions. Can you create a situation in which a wave of epidemics is perpetually going 'around the globe'?\n",
    "\n",
    "Tip: for programming 2D CAs it is more practical to make `transition_table` a function instead of a table (dictionary)."
   ]
  },
  {
   "cell_type": "code",
   "execution_count": null,
   "metadata": {},
   "outputs": [],
   "source": []
  }
 ],
 "metadata": {
  "kernelspec": {
   "display_name": "Python 2",
   "language": "python",
   "name": "python2"
  },
  "language_info": {
   "codemirror_mode": {
    "name": "ipython",
    "version": 2
   },
   "file_extension": ".py",
   "mimetype": "text/x-python",
   "name": "python",
   "nbconvert_exporter": "python",
   "pygments_lexer": "ipython2",
   "version": "2.7.14"
  },
  "toc": {
   "colors": {
    "hover_highlight": "#DAA520",
    "navigate_num": "#000000",
    "navigate_text": "#333333",
    "running_highlight": "#FF0000",
    "selected_highlight": "#FFD700",
    "sidebar_border": "#EEEEEE",
    "wrapper_background": "#FFFFFF"
   },
   "moveMenuLeft": true,
   "nav_menu": {
    "height": "98px",
    "width": "252px"
   },
   "navigate_menu": true,
   "number_sections": true,
   "sideBar": true,
   "threshold": 4,
   "toc_cell": false,
   "toc_section_display": "block",
   "toc_window_display": false,
   "widenNotebook": false
  }
 },
 "nbformat": 4,
 "nbformat_minor": 2
}
