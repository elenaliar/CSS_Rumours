{
 "cells": [
  {
   "cell_type": "code",
   "execution_count": null,
   "metadata": {},
   "outputs": [],
   "source": [
    "from ca_lecture_hall_model import Grid\n",
    "\n",
    "# Generate a grid for given size, density and spread threshold\n",
    "size = 20\n",
    "density = 0.5\n",
    "bond_probability = 0.6\n",
    "\n",
    "g = Grid(size, density, bond_probability)\n",
    "g.initialize_board()\n",
    "g.show_grid()\n",
    "\n",
    "g.update_grid()\n",
    "g.show_grid()\n",
    "\n",
    "g.update_grid()\n",
    "g.show_grid()\n",
    "\n",
    "g.update_grid()\n",
    "g.show_grid()\n",
    "\n",
    "g.update_grid()\n",
    "g.show_grid()"
   ]
  },
  {
   "cell_type": "code",
   "execution_count": null,
   "metadata": {},
   "outputs": [],
   "source": [
    "print(g.bonds)"
   ]
  },
  {
   "cell_type": "code",
   "execution_count": null,
   "metadata": {},
   "outputs": [],
   "source": [
    "print(g.bonds[((3, 4), (4, 4))])"
   ]
  },
  {
   "cell_type": "code",
   "execution_count": null,
   "metadata": {},
   "outputs": [],
   "source": []
  }
 ],
 "metadata": {
  "kernelspec": {
   "display_name": "Python 3",
   "language": "python",
   "name": "python3"
  },
  "language_info": {
   "codemirror_mode": {
    "name": "ipython",
    "version": 3
   },
   "file_extension": ".py",
   "mimetype": "text/x-python",
   "name": "python",
   "nbconvert_exporter": "python",
   "pygments_lexer": "ipython3",
   "version": "3.13.1"
  }
 },
 "nbformat": 4,
 "nbformat_minor": 2
}
