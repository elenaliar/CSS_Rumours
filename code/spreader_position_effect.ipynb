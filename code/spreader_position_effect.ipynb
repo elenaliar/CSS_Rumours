{
 "cells": [
  {
   "cell_type": "markdown",
   "id": "0",
   "metadata": {},
   "source": [
    "### Study how the initial position of spreader affects the percolation and make function to keep track of how fast percolation is achieved"
   ]
  },
  {
   "cell_type": "code",
   "execution_count": null,
   "id": "1",
   "metadata": {},
   "outputs": [],
   "source": [
    "from ca_lecture_hall_model import Status, Grid\n",
    "import numpy as np\n",
    "import matplotlib.pyplot as plt\n",
    "from tqdm import tqdm"
   ]
  },
  {
   "cell_type": "code",
   "execution_count": null,
   "id": "2",
   "metadata": {},
   "outputs": [],
   "source": [
    "# Study on initial spreader position change\n",
    "def simulate_initial_spreader(\n",
    "    size, density, spread_threshold, steps, initial_positions\n",
    "):\n",
    "    results = {}\n",
    "\n",
    "    for position in tqdm(\n",
    "        initial_positions, desc=\"Simulating initial spreader positions\"\n",
    "    ):\n",
    "        grid = Grid(size, density, spread_threshold)\n",
    "        grid.initialize_board()\n",
    "        row, col = position\n",
    "        grid.lecture_hall[row][col].set_status(Status.GOSSIP_SPREADER)\n",
    "\n",
    "        for step in range(steps):\n",
    "            grid.update_grid()\n",
    "            if grid.check_percolation():\n",
    "                results[position] = step + 1\n",
    "                break\n",
    "        else:\n",
    "            results[position] = -1\n",
    "\n",
    "    return results"
   ]
  },
  {
   "cell_type": "code",
   "execution_count": null,
   "id": "3",
   "metadata": {},
   "outputs": [],
   "source": [
    "def plot_spreader_effect(results):\n",
    "    positions = list(results.keys())\n",
    "    steps = list(results.values())\n",
    "\n",
    "    x = [pos[1] for pos in positions]\n",
    "    y = [pos[0] for pos in positions]\n",
    "\n",
    "    plt.figure(figsize=(10, 8))\n",
    "    scatter = plt.scatter(x, y, c=steps, cmap=\"viridis\", edgecolor=\"k\", s=100)\n",
    "    plt.colorbar(scatter, label=\"Steps to Percolation (-1 means no percolation)\")\n",
    "    plt.xlabel(\"Column\")\n",
    "    plt.ylabel(\"Row\")\n",
    "    plt.title(\"Effect of Initial Spreader Position on Percolation Speed\")\n",
    "    plt.grid(True)\n",
    "    plt.show()"
   ]
  },
  {
   "cell_type": "code",
   "execution_count": null,
   "id": "4",
   "metadata": {
    "editable": true,
    "slideshow": {
     "slide_type": ""
    },
    "tags": []
   },
   "outputs": [],
   "source": [
    "size = 50\n",
    "density = 0.7\n",
    "spread_threshold = 0.1\n",
    "steps = 200\n",
    "\n",
    "initial_positions = [(i, j) for i in range(size) for j in range(size)]\n",
    "\n",
    "results = simulate_initial_spreader(\n",
    "    size, density, spread_threshold, steps, initial_positions\n",
    ")\n",
    "\n",
    "plot_spreader_effect(results)"
   ]
  },
  {
   "cell_type": "code",
   "execution_count": null,
   "id": "5",
   "metadata": {
    "editable": true,
    "slideshow": {
     "slide_type": ""
    },
    "tags": []
   },
   "outputs": [],
   "source": [
    "def plot_distance_vs_steps(results, size):\n",
    "    center = (size // 2, size // 2)\n",
    "    distances = []\n",
    "    steps = []\n",
    "\n",
    "    for (row, col), step_count in results.items():\n",
    "        distance_to_center = np.sqrt((row - center[0]) ** 2 + (col - center[1]) ** 2)\n",
    "        distances.append(distance_to_center)\n",
    "        steps.append(step_count)\n",
    "\n",
    "    plt.plot(distances, steps, \"o-\", label=\"Steps to Percolation\")\n",
    "    plt.xlabel(\"Distance from Center\")\n",
    "    plt.ylabel(\"Steps to Percolation\")\n",
    "    plt.title(\"Effect of Distance from Center on Percolation Steps\")\n",
    "    plt.legend()\n",
    "    plt.grid(True)\n",
    "    plt.show()"
   ]
  },
  {
   "cell_type": "code",
   "execution_count": null,
   "id": "6",
   "metadata": {},
   "outputs": [],
   "source": [
    "plot_distance_vs_steps(results, size=50)"
   ]
  },
  {
   "cell_type": "code",
   "execution_count": null,
   "id": "7",
   "metadata": {},
   "outputs": [],
   "source": [
    "def analyze_center_vs_edge(results, size):\n",
    "    center = (size // 2, size // 2)\n",
    "    center_radius = size // 4\n",
    "\n",
    "    center_steps = []\n",
    "    edge_steps = []\n",
    "\n",
    "    for (row, col), step_count in results.items():\n",
    "        distance_to_center = np.sqrt((row - center[0]) ** 2 + (col - center[1]) ** 2)\n",
    "        if distance_to_center <= center_radius:\n",
    "            center_steps.append(step_count)\n",
    "        else:\n",
    "            edge_steps.append(step_count)\n",
    "\n",
    "    avg_center = np.mean(center_steps)\n",
    "    avg_edge = np.mean(edge_steps)\n",
    "\n",
    "    print(f\"Average steps to percolation (center): {avg_center}\")\n",
    "    print(f\"Average steps to percolation (edge): {avg_edge}\")\n",
    "\n",
    "    plt.boxplot([center_steps, edge_steps], labels=[\"Center\", \"Edge\"])\n",
    "    plt.ylabel(\"Steps to Percolation\")\n",
    "    plt.title(\"Comparison of Percolation Steps (Center vs Edge)\")\n",
    "    plt.grid(True)\n",
    "    plt.show()\n",
    "\n",
    "\n",
    "analyze_center_vs_edge(results, size=50)"
   ]
  },
  {
   "cell_type": "code",
   "execution_count": null,
   "id": "8",
   "metadata": {
    "editable": true,
    "slideshow": {
     "slide_type": ""
    },
    "tags": []
   },
   "outputs": [],
   "source": [
    "def plot_distance_vs_percolation_heatmap(results, size):\n",
    "    center = (size // 2, size // 2)\n",
    "    distance_map = {}\n",
    "\n",
    "    for (row, col), steps in results.items():\n",
    "        distance = np.sqrt((row - center[0]) ** 2 + (col - center[1]) ** 2)\n",
    "        if steps != -1:\n",
    "            distance_map.setdefault(distance, []).append(steps)\n",
    "\n",
    "    avg_steps = {d: np.mean(steps) for d, steps in distance_map.items()}\n",
    "\n",
    "    distances = list(avg_steps.keys())\n",
    "    percolation_steps = list(avg_steps.values())\n",
    "\n",
    "    plt.scatter(distances, percolation_steps, c=percolation_steps, cmap=\"viridis\")\n",
    "    plt.colorbar(label=\"Average Steps to Percolation\")\n",
    "    plt.xlabel(\"Distance from Center\")\n",
    "    plt.ylabel(\"Average Steps to Percolation\")\n",
    "    plt.title(\"Distance from Center vs Average Percolation Steps\")\n",
    "    plt.grid(True)\n",
    "    plt.show()\n",
    "\n",
    "\n",
    "plot_distance_vs_percolation_heatmap(results, size=50)"
   ]
  },
  {
   "cell_type": "code",
   "execution_count": null,
   "id": "9",
   "metadata": {},
   "outputs": [],
   "source": [
    "size = 50\n",
    "density = 0.3\n",
    "spread_threshold = 0.1\n",
    "steps = 100\n",
    "\n",
    "initial_positions = [(i, j) for i in range(size) for j in range(size)]\n",
    "\n",
    "results = simulate_initial_spreader(\n",
    "    size, density, spread_threshold, steps, initial_positions\n",
    ")\n",
    "\n",
    "plot_spreader_effect(results)"
   ]
  },
  {
   "cell_type": "code",
   "execution_count": null,
   "id": "10",
   "metadata": {
    "editable": true,
    "slideshow": {
     "slide_type": ""
    },
    "tags": []
   },
   "outputs": [],
   "source": [
    "# Study on initial spreader position change with spread intention\n",
    "def simulate_initial_spreader_with_intention(\n",
    "    size, density, spread_threshold, steps, initial_positions, center_boost=0.2\n",
    "):\n",
    "    results = {}\n",
    "\n",
    "    # Define the central region\n",
    "    center_start = size // 4\n",
    "    center_end = 3 * (size // 4)\n",
    "\n",
    "    for position in tqdm(\n",
    "        initial_positions, desc=\"Simulating initial spreader positions\"\n",
    "    ):\n",
    "        grid = Grid(size, density, spread_threshold)\n",
    "        grid.initialize_board()\n",
    "        row, col = position\n",
    "\n",
    "        # Check if the position is in the central region\n",
    "        if center_start <= row < center_end and center_start <= col < center_end:\n",
    "            spreading_prob = min(\n",
    "                1.0, spread_threshold + center_boost\n",
    "            )  # Increase spread intention in the center\n",
    "        else:\n",
    "            spreading_prob = spread_threshold  # Normal spread intention in the edges\n",
    "\n",
    "        # Set the initial spreader's status and spreading probability\n",
    "        grid.lecture_hall[row][col].set_status(Status.GOSSIP_SPREADER)\n",
    "        grid.lecture_hall[row][col].set_spreading_prob(spreading_prob)\n",
    "\n",
    "        # Simulate the spread\n",
    "        for step in range(steps):\n",
    "            grid.update_grid()\n",
    "            if grid.check_percolation():\n",
    "                results[position] = step + 1\n",
    "                break\n",
    "        else:\n",
    "            results[position] = -1\n",
    "\n",
    "    return results\n",
    "\n",
    "\n",
    "size = 50\n",
    "density = 0.7\n",
    "spread_threshold = 0.1\n",
    "steps = 100\n",
    "center_boost = 0.7\n",
    "\n",
    "initial_positions = [(i, j) for i in range(size) for j in range(size)]\n",
    "\n",
    "results = simulate_initial_spreader_with_intention(\n",
    "    size, density, spread_threshold, steps, initial_positions, center_boost\n",
    ")\n",
    "\n",
    "# Plot the results (reuse the plotting function for visualizing percolation speed)\n",
    "plot_spreader_effect(results)"
   ]
  },
  {
   "cell_type": "code",
   "execution_count": null,
   "id": "11",
   "metadata": {},
   "outputs": [],
   "source": []
  }
 ],
 "metadata": {
  "kernelspec": {
   "display_name": "Python 3 (ipykernel)",
   "language": "python",
   "name": "python3"
  },
  "language_info": {
   "codemirror_mode": {
    "name": "ipython",
    "version": 3
   },
   "file_extension": ".py",
   "mimetype": "text/x-python",
   "name": "python",
   "nbconvert_exporter": "python",
   "pygments_lexer": "ipython3",
   "version": "3.12.4"
  }
 },
 "nbformat": 4,
 "nbformat_minor": 5
}
