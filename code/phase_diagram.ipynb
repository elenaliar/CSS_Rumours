{
 "cells": [
  {
   "cell_type": "code",
   "execution_count": null,
   "metadata": {},
   "outputs": [],
   "source": [
    "from visualisation import plot_phase_diagram_3D"
   ]
  },
  {
   "cell_type": "code",
   "execution_count": null,
   "metadata": {},
   "outputs": [],
   "source": [
    "# function to get the amount of gossipers of multiple simulations\n",
    "# def run_multiple_simulations_for_phase_diagram(size, density, spread_threshold, steps, no_simulations):\n",
    "\n",
    "# function to plot the 3D phase diagram\n",
    "# def plot_phase_diagram_3D(size, steps, no_simulations):\n",
    "\n",
    "plot_phase_diagram_3D(size=20, steps=20, no_simulations=10)"
   ]
  }
 ],
 "metadata": {
  "kernelspec": {
   "display_name": "Python 3 (ipykernel)",
   "language": "python",
   "name": "python3"
  },
  "language_info": {
   "codemirror_mode": {
    "name": "ipython",
    "version": 3
   },
   "file_extension": ".py",
   "mimetype": "text/x-python",
   "name": "python",
   "nbconvert_exporter": "python",
   "pygments_lexer": "ipython3",
   "version": "3.13.1"
  }
 },
 "nbformat": 4,
 "nbformat_minor": 4
}
