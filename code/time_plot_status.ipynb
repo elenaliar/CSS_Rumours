{
 "cells": [
  {
   "cell_type": "code",
   "execution_count": null,
   "metadata": {},
   "outputs": [],
   "source": [
    "from visualisation import plot_time_status"
   ]
  },
  {
   "cell_type": "code",
   "execution_count": null,
   "metadata": {},
   "outputs": [],
   "source": [
    "# def create_results_dict(size, density, spread_threshold, steps):\n",
    "\n",
    "# function to get the amount of each status for multiple simulations\n",
    "# def run_multiple_simulations_for_timeplot_status(size, density, spread_threshold, steps, no_simulations):\n",
    "\n",
    "\n",
    "# def plot_time_status(size, steps, no_simulations):\n",
    "\n",
    "density = 1\n",
    "spread_threshold = 0.5\n",
    "plot_time_status(size=20, steps=35, no_simulations=5)"
   ]
  }
 ],
 "metadata": {
  "kernelspec": {
   "display_name": "Python 3 (ipykernel)",
   "language": "python",
   "name": "python3"
  },
  "language_info": {
   "codemirror_mode": {
    "name": "ipython",
    "version": 3
   },
   "file_extension": ".py",
   "mimetype": "text/x-python",
   "name": "python",
   "nbconvert_exporter": "python",
   "pygments_lexer": "ipython3",
   "version": "3.13.1"
  }
 },
 "nbformat": 4,
 "nbformat_minor": 4
}
