{
 "cells": [
  {
   "cell_type": "code",
   "execution_count": null,
   "id": "0",
   "metadata": {},
   "outputs": [],
   "source": [
    "from visualisation import (\n",
    "    plot_percolation_vs_density,\n",
    "    plot_percolation_vs_spread_threshold,\n",
    "    plot_3d_percolation_vs_density_and_threshold,\n",
    ")"
   ]
  },
  {
   "cell_type": "markdown",
   "id": "1",
   "metadata": {},
   "source": [
    "## plot_percolation_vs_density\n",
    "\n",
    "Plots the percolation probability vs density for a given value of spreading threshold\n",
    "\n",
    "--> Not that useful, combining multiple values of density and spreading threshold in one plot gives more insights"
   ]
  },
  {
   "cell_type": "code",
   "execution_count": null,
   "id": "2",
   "metadata": {},
   "outputs": [],
   "source": [
    "grid_size = 20\n",
    "spread_threshold = 0.1\n",
    "\n",
    "plot_percolation_vs_density(grid_size, spread_threshold)"
   ]
  },
  {
   "cell_type": "markdown",
   "id": "3",
   "metadata": {},
   "source": [
    "## plot_percolation_vs_spread_threshold\n",
    "\n",
    "Plots the percolation probability vs spreading threshold for a given value of density\n",
    "\n",
    "--> Not that useful, combining multiple values of density and spreading threshold in one plot gives more insights"
   ]
  },
  {
   "cell_type": "code",
   "execution_count": null,
   "id": "4",
   "metadata": {},
   "outputs": [],
   "source": [
    "grid_size = 20\n",
    "density = 0.75\n",
    "\n",
    "plot_percolation_vs_spread_threshold(grid_size, density)"
   ]
  },
  {
   "cell_type": "markdown",
   "id": "5",
   "metadata": {},
   "source": [
    "## plot_percolation_vs_density_vs_spread_threshold\n",
    "\n",
    "Plots the percolation probability vs spreading threshold for a given value of density\n",
    "\n",
    "--> YES -- takes a lot of time to load but nicely demonstrates the density needs to be > 0.6 and spreading threshold < 0.4"
   ]
  },
  {
   "cell_type": "code",
   "execution_count": null,
   "id": "6",
   "metadata": {},
   "outputs": [],
   "source": [
    "grid_size = 20\n",
    "\n",
    "# plot_percolation_vs_density_vs_spread_threshold(grid_size)"
   ]
  },
  {
   "cell_type": "markdown",
   "id": "7",
   "metadata": {},
   "source": [
    "## plot_3d_percolation_vs_density_and_threshold"
   ]
  },
  {
   "cell_type": "code",
   "execution_count": null,
   "id": "8",
   "metadata": {},
   "outputs": [],
   "source": [
    "grid_size = 20\n",
    "\n",
    "plot_3d_percolation_vs_density_and_threshold(grid_size)"
   ]
  },
  {
   "cell_type": "code",
   "execution_count": null,
   "id": "9",
   "metadata": {},
   "outputs": [],
   "source": []
  },
  {
   "cell_type": "markdown",
   "id": "10",
   "metadata": {},
   "source": [
    "* How does the number of gossip spreaders vs secret keepers vary for different s and constant d = 0.75 or even d = 1\n",
    "* What is the difference when using Moore vs von Neumann\n",
    "* Speed -- how fast does the gossip spread to at least 25% if the classroom is full"
   ]
  },
  {
   "cell_type": "markdown",
   "id": "11",
   "metadata": {},
   "source": []
  }
 ],
 "metadata": {
  "kernelspec": {
   "display_name": "Python 3",
   "language": "python",
   "name": "python3"
  },
  "language_info": {
   "codemirror_mode": {
    "name": "ipython",
    "version": 3
   },
   "file_extension": ".py",
   "mimetype": "text/x-python",
   "name": "python",
   "nbconvert_exporter": "python",
   "pygments_lexer": "ipython3",
   "version": "3.13.1"
  }
 },
 "nbformat": 4,
 "nbformat_minor": 5
}
