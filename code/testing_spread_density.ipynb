{
 "cells": [
  {
   "cell_type": "code",
   "execution_count": null,
   "id": "0",
   "metadata": {},
   "outputs": [],
   "source": [
    "from visualisation import (\n",
    "    plot_percolation_vs_density,\n",
    "    simulate_and_plot_gossip_model_all_combinations,\n",
    ")\n",
    "\n",
    "# For testing\n",
    "import numpy as np"
   ]
  },
  {
   "cell_type": "markdown",
   "id": "1",
   "metadata": {},
   "source": [
    "## plot_percolation_vs_density\n",
    "\n",
    "Plots the percolation probability vs density for a given value of spreading threshold"
   ]
  },
  {
   "cell_type": "code",
   "execution_count": null,
   "id": "2",
   "metadata": {},
   "outputs": [],
   "source": [
    "size = 20\n",
    "spread_threshold = 0.1\n",
    "steps = 1000\n",
    "num_simulations = 100\n",
    "\n",
    "plot_percolation_vs_density(size, spread_threshold, steps, num_simulations)"
   ]
  },
  {
   "cell_type": "markdown",
   "id": "3",
   "metadata": {},
   "source": [
    "## simulate_and_plot_gossip_model_all_combinations"
   ]
  },
  {
   "cell_type": "code",
   "execution_count": null,
   "id": "4",
   "metadata": {},
   "outputs": [],
   "source": [
    "grid_size = 20\n",
    "densities = np.linspace(0, 1, 10)\n",
    "spread_thresholds = np.linspace(0, 1, 10)\n",
    "num_simulations = 100\n",
    "\n",
    "simulate_and_plot_gossip_model_all_combinations(\n",
    "    grid_size, densities, spread_thresholds, num_simulations, flag_center=1\n",
    ")"
   ]
  }
 ],
 "metadata": {
  "kernelspec": {
   "display_name": "Python 3",
   "language": "python",
   "name": "python3"
  },
  "language_info": {
   "codemirror_mode": {
    "name": "ipython",
    "version": 3
   },
   "file_extension": ".py",
   "mimetype": "text/x-python",
   "name": "python",
   "nbconvert_exporter": "python",
   "pygments_lexer": "ipython3",
   "version": "3.13.1"
  }
 },
 "nbformat": 4,
 "nbformat_minor": 5
}
