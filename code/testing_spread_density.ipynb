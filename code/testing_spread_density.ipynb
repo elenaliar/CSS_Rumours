{
 "cells": [
  {
   "cell_type": "code",
   "execution_count": null,
   "id": "0",
   "metadata": {},
   "outputs": [],
   "source": [
    "from visualisation import (\n",
    "    plot_percolation_vs_density,\n",
    "    plot_percolation_vs_spread_threshold,\n",
    ")\n",
    "\n",
    "# For testing"
   ]
  },
  {
   "cell_type": "markdown",
   "id": "1",
   "metadata": {},
   "source": [
    "## plot_percolation_vs_density\n",
    "\n",
    "Plots the percolation probability vs density for a given value of spreading threshold"
   ]
  },
  {
   "cell_type": "code",
   "execution_count": null,
   "id": "2",
   "metadata": {},
   "outputs": [],
   "source": [
    "grid_size = 20\n",
    "spread_threshold = 0.1\n",
    "\n",
    "plot_percolation_vs_density(grid_size, spread_threshold)"
   ]
  },
  {
   "cell_type": "markdown",
   "id": "3",
   "metadata": {},
   "source": [
    "## plot_percolation_vs_spread_threshold\n",
    "\n",
    "Plots the percolation probability vs spreading threshold for a given value of density"
   ]
  },
  {
   "cell_type": "code",
   "execution_count": null,
   "id": "4",
   "metadata": {},
   "outputs": [],
   "source": [
    "grid_size = 20\n",
    "density = 0.75\n",
    "\n",
    "plot_percolation_vs_spread_threshold(grid_size, density)"
   ]
  },
  {
   "cell_type": "code",
   "execution_count": null,
   "id": "5",
   "metadata": {},
   "outputs": [],
   "source": []
  }
 ],
 "metadata": {
  "kernelspec": {
   "display_name": "Python 3",
   "language": "python",
   "name": "python3"
  },
  "language_info": {
   "codemirror_mode": {
    "name": "ipython",
    "version": 3
   },
   "file_extension": ".py",
   "mimetype": "text/x-python",
   "name": "python",
   "nbconvert_exporter": "python",
   "pygments_lexer": "ipython3",
   "version": "3.13.1"
  }
 },
 "nbformat": 4,
 "nbformat_minor": 5
}
