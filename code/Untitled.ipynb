{
 "cells": [
  {
   "cell_type": "code",
   "execution_count": null,
   "id": "0",
   "metadata": {},
   "outputs": [],
   "source": [
    "import numpy as np\n",
    "import random\n",
    "import matplotlib.pyplot as plt"
   ]
  },
  {
   "cell_type": "markdown",
   "id": "1",
   "metadata": {},
   "source": [
    "1. Generate the grid\n",
    "2. Fill in the grid depending on the density d\n",
    "3. Define the rules\n",
    "4. Iterate through the rules\n",
    "5. Visualise"
   ]
  },
  {
   "cell_type": "code",
   "execution_count": null,
   "id": "2",
   "metadata": {},
   "outputs": [],
   "source": [
    "class Cell:\n",
    "    def __init__(self, status, spreading_prob=0):\n",
    "        self.status = status\n",
    "        self.spreading_prob = spreading_prob\n",
    "\n",
    "    def get_status(self):\n",
    "        return self.status\n",
    "\n",
    "    def set_status(self, status):\n",
    "        self.status = status\n",
    "\n",
    "    def get_spreading_prob(self):\n",
    "        return self.spreading_prob\n",
    "\n",
    "    def set_spreading_prob(self, spreading_prob):\n",
    "        self.spreading_prob = spreading_prob"
   ]
  },
  {
   "cell_type": "code",
   "execution_count": null,
   "id": "3",
   "metadata": {},
   "outputs": [],
   "source": [
    "class Grid:\n",
    "    def __init__(self, size, d, spread_threshold):\n",
    "        self.size = size\n",
    "        self.lecture_hall = []\n",
    "        self.d = d\n",
    "        self.spread_threshold = spread_threshold\n",
    "\n",
    "    def initialize_board(self):\n",
    "        self.lecture_hall = [\n",
    "            [Cell(0) for _ in range(self.size)] for _ in range(self.size)\n",
    "        ]\n",
    "\n",
    "        # Total number of cells\n",
    "        total_cells = self.size * self.size\n",
    "\n",
    "        # Number of cells to set to 1\n",
    "        cells_to_fill = int(total_cells * self.d)\n",
    "\n",
    "        # Flatten grid into a list of coordinates\n",
    "        all_cells = [(i, j) for i in range(self.size) for j in range(self.size)]\n",
    "\n",
    "        # Randomly choose `cells_to_fill` coordinates\n",
    "        selected_cells = random.sample(all_cells, cells_to_fill)\n",
    "\n",
    "        # Set selected cells to 1\n",
    "        for i, j in selected_cells:\n",
    "            self.lecture_hall[i][j].set_status(1)\n",
    "            self.lecture_hall[i][j].set_spreading_prob(np.random.uniform(0, 1))\n",
    "\n",
    "    def set_spreader(self, i, j):\n",
    "        self.lecture_hall[i][j].set_status(2)\n",
    "\n",
    "    def get_neighbours(self, i, j):\n",
    "        neighbours = []\n",
    "\n",
    "        # Top neighbour\n",
    "        if i > 0:\n",
    "            neighbours.append(self.lecture_hall[i - 1][j])\n",
    "\n",
    "        # Bottom neighbours\n",
    "        if i < self.size - 1:\n",
    "            neighbours.append(self.lecture_hall[i + 1][j])\n",
    "\n",
    "        # Left neighbours\n",
    "        if j > 0:\n",
    "            neighbours.append(self.lecture_hall[i][j - 1])\n",
    "\n",
    "        # Right neighbours\n",
    "        if j < self.size - 1:\n",
    "            neighbours.append(self.lecture_hall[i][j + 1])\n",
    "\n",
    "        return neighbours\n",
    "\n",
    "    def update_grid(self):\n",
    "        # Run one time step\n",
    "        for i in range(self.size):\n",
    "            for j in range(self.size):\n",
    "                current_cell = self.lecture_hall[i][j]\n",
    "                if current_cell.get_status() != 1:\n",
    "                    continue\n",
    "\n",
    "                neighbours = self.get_neighbours(i, j)\n",
    "\n",
    "                neighbour_statuses = [\n",
    "                    neighbour.get_status() for neighbour in neighbours\n",
    "                ]\n",
    "\n",
    "                if 2 in neighbour_statuses:\n",
    "                    # Update the status of the cell\n",
    "                    s = current_cell.get_spreading_prob()\n",
    "\n",
    "                    if s > self.spread_threshold:\n",
    "                        current_cell.set_status(2)\n",
    "\n",
    "                    else:\n",
    "                        current_cell.set_status(3)\n",
    "\n",
    "    def show_grid(self):\n",
    "        grid = [[cell.get_status() for cell in row] for row in self.lecture_hall]\n",
    "        plt.imshow(grid)\n",
    "        plt.show()"
   ]
  },
  {
   "cell_type": "code",
   "execution_count": null,
   "id": "4",
   "metadata": {},
   "outputs": [],
   "source": [
    "size = 20\n",
    "d = 0.7\n",
    "spread_threshold = 0.6\n",
    "\n",
    "g = Grid(size, d, spread_threshold)"
   ]
  },
  {
   "cell_type": "code",
   "execution_count": null,
   "id": "5",
   "metadata": {},
   "outputs": [],
   "source": [
    "g.initialize_board()"
   ]
  },
  {
   "cell_type": "code",
   "execution_count": null,
   "id": "6",
   "metadata": {},
   "outputs": [],
   "source": [
    "g.show_grid()"
   ]
  },
  {
   "cell_type": "code",
   "execution_count": null,
   "id": "7",
   "metadata": {},
   "outputs": [],
   "source": [
    "g.set_spreader(13, 7)"
   ]
  },
  {
   "cell_type": "code",
   "execution_count": null,
   "id": "8",
   "metadata": {},
   "outputs": [],
   "source": [
    "g.update_grid()\n",
    "g.show_grid()"
   ]
  },
  {
   "cell_type": "code",
   "execution_count": null,
   "id": "9",
   "metadata": {},
   "outputs": [],
   "source": []
  }
 ],
 "metadata": {
  "kernelspec": {
   "display_name": "Python 3 (ipykernel)",
   "language": "python",
   "name": "python3"
  },
  "language_info": {
   "codemirror_mode": {
    "name": "ipython",
    "version": 3
   },
   "file_extension": ".py",
   "mimetype": "text/x-python",
   "name": "python",
   "nbconvert_exporter": "python",
   "pygments_lexer": "ipython3",
   "version": "3.13.1"
  }
 },
 "nbformat": 4,
 "nbformat_minor": 5
}
