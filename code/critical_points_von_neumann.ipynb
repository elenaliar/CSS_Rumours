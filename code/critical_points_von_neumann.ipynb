{
 "cells": [
  {
   "cell_type": "code",
   "execution_count": 1,
   "metadata": {},
   "outputs": [
    {
     "name": "stdout",
     "output_type": "stream",
     "text": [
      "Simulations for Von Neumann neighborhood\n",
      "Starting simulation for different spread thresholds and densities...\n"
     ]
    },
    {
     "name": "stderr",
     "output_type": "stream",
     "text": [
      "Simulating thresholds:  90%|█████████ | 9/10 [1:09:02<04:22, 262.28s/it]"
     ]
    }
   ],
   "source": [
    "from visualisation import plot_percolation_vs_density_vs_spread_threshold, plot_3d_percolation_vs_density_and_threshold, plot_3d_gossip_spreader_counts, plot_time_status, plot_log_log_distribution, simulate_and_plot_gossip_model_all_combinations\n",
    "import matplotlib.pyplot as plt\n",
    "densities = [0.6, 0.7, 0.8]\n",
    "spread_thresholds = [0.1, 0.2, 0.3, 0.4]\n",
    "grid_size = 20\n",
    "num_simulation = 500\n",
    "steps = 100\n",
    "x_limits = (0, steps-20)\n",
    "y_limits = (0, grid_size*grid_size)\n",
    "\n",
    "#von Neumann neighborhood\n",
    "print(\"Simulations for Von Neumann neighborhood\")\n",
    "flag_neighbors=0\n",
    "#flag_center=1\n",
    "flag_center=1\n",
    "plot_percolation_vs_density_vs_spread_threshold(grid_size, steps, num_simulation, flag_center, flag_neighbors)\n",
    "\n",
    "#flag_center=0\n",
    "flag_center=0\n",
    "plot_percolation_vs_density_vs_spread_threshold(grid_size, steps, num_simulation, flag_center, flag_neighbors)"
   ]
  }
 ],
 "metadata": {
  "kernelspec": {
   "display_name": "base",
   "language": "python",
   "name": "python3"
  },
  "language_info": {
   "codemirror_mode": {
    "name": "ipython",
    "version": 3
   },
   "file_extension": ".py",
   "mimetype": "text/x-python",
   "name": "python",
   "nbconvert_exporter": "python",
   "pygments_lexer": "ipython3",
   "version": "3.12.4"
  }
 },
 "nbformat": 4,
 "nbformat_minor": 2
}
