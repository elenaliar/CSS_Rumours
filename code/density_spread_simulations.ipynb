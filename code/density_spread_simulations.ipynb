{
 "cells": [
  {
   "cell_type": "code",
   "execution_count": 1,
   "id": "0",
   "metadata": {},
   "outputs": [],
   "source": [
    "from ca_lecture_hall_model import Grid\n",
    "import matplotlib.pyplot as plt\n",
    "import numpy as np"
   ]
  },
  {
   "cell_type": "markdown",
   "id": "1",
   "metadata": {},
   "source": [
    "### Test multiple simulation runs"
   ]
  },
  {
   "cell_type": "code",
   "execution_count": 2,
   "id": "2",
   "metadata": {},
   "outputs": [],
   "source": [
    "def run_multiple_simulations_for_percolation(\n",
    "    size, density, spread_threshold, steps, no_simulations\n",
    "):\n",
    "    results = {\n",
    "        \"size\": size,\n",
    "        \"density\": density,\n",
    "        \"spread_threshold\": spread_threshold,\n",
    "        \"steps\": steps,\n",
    "        \"simulation_outcomes\": [],\n",
    "    }\n",
    "\n",
    "    for i in range(no_simulations):\n",
    "        g = Grid(size, density, spread_threshold)\n",
    "        g.initialize_board()\n",
    "\n",
    "        g.run_simulation(steps)\n",
    "        results[\"simulation_outcomes\"].append(g.check_percolation())\n",
    "\n",
    "    return results"
   ]
  },
  {
   "cell_type": "code",
   "execution_count": 3,
   "id": "3",
   "metadata": {},
   "outputs": [],
   "source": [
    "def plot_percolation_vs_density(size, spread_threshold, steps, no_simulations):\n",
    "    # Simulate for different densities and get the fraction of simulations with percolation\n",
    "    densities = np.linspace(0, 1, 20)\n",
    "    percolations = []\n",
    "\n",
    "    print(\"Starting running simulation, this might take a bit...\")\n",
    "\n",
    "    for d in densities:\n",
    "        results = run_multiple_simulations_for_percolation(\n",
    "            size, d, spread_threshold, steps, no_simulations\n",
    "        )\n",
    "\n",
    "        percolations.append(sum(results[\"simulation_outcomes\"]) / no_simulations)\n",
    "\n",
    "    print(\n",
    "        f\"All {no_simulations} simulations for all {len(densities)} different densities done\"\n",
    "    )\n",
    "\n",
    "    # Plot results\n",
    "    plt.figure(figsize=(8, 6))\n",
    "    plt.plot(\n",
    "        densities,\n",
    "        percolations,\n",
    "        marker=\"o\",\n",
    "        linestyle=\"-\",\n",
    "        color=\"gold\",\n",
    "        label=f\"spred_threshold = {spread_threshold}\",\n",
    "    )\n",
    "\n",
    "    plt.xlabel(\"Density\")\n",
    "    plt.ylabel(\"Fraction of simulations with percolation\")\n",
    "    plt.title(\"Plot of percolation occurence for different density\")\n",
    "\n",
    "    plt.legend()\n",
    "\n",
    "    plt.grid(True)\n",
    "    plt.show()"
   ]
  },
  {
   "cell_type": "code",
   "execution_count": null,
   "id": "4",
   "metadata": {},
   "outputs": [],
   "source": [
    "size = 20\n",
    "spread_threshold = 0.1\n",
    "steps = 50\n",
    "no_simulations = 30\n",
    "\n",
    "plot_percolation_vs_density(size, spread_threshold, steps, no_simulations)"
   ]
  },
  {
   "cell_type": "code",
   "execution_count": 5,
   "id": "5",
   "metadata": {},
   "outputs": [],
   "source": [
    "def plot_percolation_vs_density_vs_spread_threshold(\n",
    "    size, steps, no_simulations, save_plot=False\n",
    "):\n",
    "    # Simulate for different densities and spreading thresholds and plot the fraction of simulations with percolation\n",
    "    spread_thresholds = np.linspace(0, 1, 10)\n",
    "    densities = np.linspace(0, 1, 10)\n",
    "\n",
    "    plt.figure(figsize=(8, 6))\n",
    "\n",
    "    for spread_threshold in spread_thresholds:\n",
    "        percolations = []\n",
    "\n",
    "        print(\n",
    "            f\"Starting running simulation for spread_threshold = {spread_threshold:.3f}, this might take a bit...\"\n",
    "        )\n",
    "\n",
    "        for d in densities:\n",
    "            results = run_multiple_simulations_for_percolation(\n",
    "                size, d, spread_threshold, steps, no_simulations\n",
    "            )\n",
    "\n",
    "            percolations.append(sum(results[\"simulation_outcomes\"]) / no_simulations)\n",
    "\n",
    "        plt.plot(\n",
    "            densities,\n",
    "            percolations,\n",
    "            marker=\"o\",\n",
    "            linestyle=\"-\",\n",
    "            label=f\"spred_threshold = {spread_threshold:.3f}\",\n",
    "        )\n",
    "\n",
    "    plt.xlabel(\"Density\")\n",
    "    plt.ylabel(\"Fraction of simulations with percolation\")\n",
    "    plt.title(\"Plot of percolation occurence for different density\")\n",
    "\n",
    "    plt.legend()\n",
    "\n",
    "    plt.grid(True)\n",
    "    plt.show()"
   ]
  },
  {
   "cell_type": "code",
   "execution_count": null,
   "id": "6",
   "metadata": {},
   "outputs": [],
   "source": [
    "# Info: this will take a couple of minutes to run\n",
    "# You can modify how many different values of density and spraeding threshold we in the function above or add it as a parametere there\n",
    "size = 20\n",
    "steps = 100\n",
    "no_simulations = 30\n",
    "\n",
    "plot_percolation_vs_density_vs_spread_threshold(size, steps, no_simulations)"
   ]
  }
 ],
 "metadata": {
  "kernelspec": {
   "display_name": "base",
   "language": "python",
   "name": "python3"
  },
  "language_info": {
   "codemirror_mode": {
    "name": "ipython",
    "version": 3
   },
   "file_extension": ".py",
   "mimetype": "text/x-python",
   "name": "python",
   "nbconvert_exporter": "python",
   "pygments_lexer": "ipython3",
   "version": "3.12.4"
  }
 },
 "nbformat": 4,
 "nbformat_minor": 5
}
