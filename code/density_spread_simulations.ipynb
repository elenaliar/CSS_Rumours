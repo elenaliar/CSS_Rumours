{
 "cells": [
  {
   "cell_type": "code",
   "execution_count": null,
   "id": "0",
   "metadata": {},
   "outputs": [],
   "source": [
    "from visualisation import (\n",
    "    plot_3d_percolation_vs_density_and_threshold,\n",
    "    plot_percolation_vs_density_vs_spread_threshold,\n",
    "    plot_percolation_vs_density,\n",
    "    plot_percolation_vs_spread_threshold,\n",
    ")"
   ]
  },
  {
   "cell_type": "markdown",
   "id": "1",
   "metadata": {},
   "source": [
    "### Test multiple simulation runs"
   ]
  },
  {
   "cell_type": "code",
   "execution_count": null,
   "id": "2",
   "metadata": {},
   "outputs": [],
   "source": [
    "# def run_multiple_simulations_for_percolation(\n",
    "#     size, density, spread_threshold, steps, no_simulations\n",
    "# )\n",
    "\n",
    "# def simulate_density(size, density, spread_threshold, steps, no_simulations):\n",
    "\n",
    "# def simulate_density_vs_threshold(size, density, steps, no_simulations):\n",
    "\n",
    "# def simulate_and_collect_percolations(\n",
    "#     size, densities, spread_threshold, steps, no_simulations\n",
    "# ):\n",
    "\n",
    "# def plot_percolation_results(\n",
    "#     densities, percolations, spread_threshold=None, label=None\n",
    "# )"
   ]
  },
  {
   "cell_type": "code",
   "execution_count": null,
   "id": "3",
   "metadata": {},
   "outputs": [],
   "source": [
    "# Plot the percolation vs density for a fixed spread threshold.\n",
    "# def plot_percolation_vs_density(size, spread_threshold, steps, no_simulations):"
   ]
  },
  {
   "cell_type": "code",
   "execution_count": null,
   "id": "4",
   "metadata": {},
   "outputs": [],
   "source": [
    "# Plot the percolation vs spread threshold for a fixed density.\n",
    "# def plot_percolation_vs_spread_threshold(size, density, steps, no_simulations):"
   ]
  },
  {
   "cell_type": "code",
   "execution_count": null,
   "id": "5",
   "metadata": {},
   "outputs": [],
   "source": [
    "# Simulate for different densities and spreading thresholds and plot the fraction of simulations with percolation\n",
    "# def plot_percolation_vs_density_vs_spread_threshold(size, steps, no_simulations):"
   ]
  },
  {
   "cell_type": "code",
   "execution_count": null,
   "id": "6",
   "metadata": {},
   "outputs": [],
   "source": [
    "plot_percolation_vs_density(size=20, spread_threshold=0.1, steps=50, no_simulations=30)\n",
    "plot_percolation_vs_spread_threshold(size=20, density=0.6, steps=50, no_simulations=30)\n",
    "plot_percolation_vs_density_vs_spread_threshold(size=20, steps=50, no_simulations=30)"
   ]
  },
  {
   "cell_type": "code",
   "execution_count": null,
   "id": "7",
   "metadata": {},
   "outputs": [],
   "source": [
    "# Plots a 3D graph to study the relationship between density, spread threshold, and percolation\n",
    "# def plot_3d_percolation_vs_density_and_threshold(size, steps, no_simulations):"
   ]
  },
  {
   "cell_type": "code",
   "execution_count": null,
   "id": "8",
   "metadata": {},
   "outputs": [],
   "source": [
    "# Still this plot takes a little bit time to run\n",
    "plot_3d_percolation_vs_density_and_threshold(size=20, steps=50, no_simulations=30)"
   ]
  },
  {
   "cell_type": "code",
   "execution_count": null,
   "id": "9",
   "metadata": {},
   "outputs": [],
   "source": []
  }
 ],
 "metadata": {
  "kernelspec": {
   "display_name": "Python 3 (ipykernel)",
   "language": "python",
   "name": "python3"
  },
  "language_info": {
   "codemirror_mode": {
    "name": "ipython",
    "version": 3
   },
   "file_extension": ".py",
   "mimetype": "text/x-python",
   "name": "python",
   "nbconvert_exporter": "python",
   "pygments_lexer": "ipython3",
   "version": "3.13.1"
  }
 },
 "nbformat": 4,
 "nbformat_minor": 5
}
