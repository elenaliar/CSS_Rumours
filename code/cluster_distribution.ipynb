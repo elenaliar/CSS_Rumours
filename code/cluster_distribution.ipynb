{
 "cells": [
  {
   "cell_type": "markdown",
   "metadata": {},
   "source": [
    "## Notebook for testing of the cluster distribution functions to show the power law"
   ]
  },
  {
   "cell_type": "code",
   "execution_count": null,
   "metadata": {},
   "outputs": [],
   "source": [
    "import numpy as np\n",
    "\n",
    "# from simulation import create_results_dict, run_simulation, count_statuses, calculate_cluster_size_distribution\n",
    "from visualisation import simulate_and_plot_gossip_model_all_combinations\n",
    "\n",
    "grid_size = 10\n",
    "densities = np.linspace(0.1, 1, 10)\n",
    "bond_probabilities = np.linspace(0.1, 1, 10)\n",
    "\n",
    "simulate_and_plot_gossip_model_all_combinations(\n",
    "    grid_size, densities, bond_probabilities, num_simulations=100, flag_center=1\n",
    ")"
   ]
  },
  {
   "cell_type": "code",
   "execution_count": null,
   "metadata": {},
   "outputs": [],
   "source": []
  }
 ],
 "metadata": {
  "kernelspec": {
   "display_name": "Python 3",
   "language": "python",
   "name": "python3"
  },
  "language_info": {
   "codemirror_mode": {
    "name": "ipython",
    "version": 3
   },
   "file_extension": ".py",
   "mimetype": "text/x-python",
   "name": "python",
   "nbconvert_exporter": "python",
   "pygments_lexer": "ipython3",
   "version": "3.13.1"
  }
 },
 "nbformat": 4,
 "nbformat_minor": 2
}
