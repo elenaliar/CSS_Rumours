{
 "cells": [
  {
   "cell_type": "code",
   "execution_count": null,
   "id": "0",
   "metadata": {},
   "outputs": [],
   "source": [
    "from ca_lecture_hall_model import Grid, Cell, Status"
   ]
  },
  {
   "cell_type": "markdown",
   "id": "1",
   "metadata": {},
   "source": [
    "### check_percolation testing"
   ]
  },
  {
   "cell_type": "code",
   "execution_count": null,
   "id": "2",
   "metadata": {},
   "outputs": [],
   "source": [
    "# Generate a grid for given size, density and spread threshold\n",
    "size = 20\n",
    "density = 0.7\n",
    "spread_threshold = 0.3\n",
    "\n",
    "g = Grid(size, density, spread_threshold)\n",
    "g.initialize_board()\n",
    "g.run_simulation()\n",
    "\n",
    "g.show_grid()\n",
    "\n",
    "if g.check_percolation():\n",
    "    print(\"percolation done\")\n",
    "else:\n",
    "    print(\"percolation not done\")"
   ]
  },
  {
   "cell_type": "code",
   "execution_count": null,
   "id": "3",
   "metadata": {},
   "outputs": [],
   "source": [
    "# Generate small testing grid to be used for testing of the check_percolation function\n",
    "size = 5\n",
    "density = 0.8\n",
    "spread_threshold = 0\n",
    "\n",
    "g = Grid(size, density, spread_threshold)\n",
    "\n",
    "# Test no percolation\n",
    "print(\"-------------------------------------------\")\n",
    "print(\"Testing no percolation:\")\n",
    "g.initialize_board()\n",
    "g.lecture_hall[0][3] = Cell(Status.SECRET_KEEPER)\n",
    "g.lecture_hall[1][3] = Cell(Status.GOSSIP_SPREADER)\n",
    "g.lecture_hall[1][2] = Cell(Status.SECRET_KEEPER)\n",
    "g.show_grid()\n",
    "\n",
    "assert not g.check_percolation()\n",
    "print(\"Testing of no percolation resulted in SUCCESS\")\n",
    "\n",
    "\n",
    "# Test horizontal percolation only\n",
    "print(\"-------------------------------------------\")\n",
    "print(\"Testing horizontal percolation:\")\n",
    "g.initialize_board()\n",
    "g.lecture_hall[1] = [Cell(Status.SECRET_KEEPER) for _ in range(size)]\n",
    "g.show_grid()\n",
    "\n",
    "assert g.check_percolation_direction(\"horizontal\")\n",
    "assert not g.check_percolation_direction(\"vertical\")\n",
    "print(\"Testing of horizontal percolation resulted in SUCCESS\")\n",
    "\n",
    "# Test vertical percolation only\n",
    "print(\"-------------------------------------------\")\n",
    "print(\"Testing horizontal percolation:\")\n",
    "g.initialize_board()\n",
    "for i in range(size):\n",
    "    g.lecture_hall[i][1] = Cell(Status.SECRET_KEEPER)\n",
    "g.show_grid()\n",
    "\n",
    "assert not g.check_percolation_direction(\"horizontal\")\n",
    "assert g.check_percolation_direction(\"vertical\")\n",
    "print(\"Testing of vertical percolation resulted in SUCCESS\")\n",
    "\n",
    "# Test percolation in both directions\n",
    "print(\"-------------------------------------------\")\n",
    "print(\"Testing percolation in both directions:\")\n",
    "g.initialize_board()\n",
    "for i in range(size):\n",
    "    g.lecture_hall[i][1] = Cell(Status.SECRET_KEEPER)\n",
    "g.lecture_hall[1] = [Cell(Status.GOSSIP_SPREADER) for _ in range(size)]\n",
    "g.show_grid()\n",
    "\n",
    "assert g.check_percolation()\n",
    "print(\"Testing of percolation in both directions resulted in SUCCESS\")"
   ]
  },
  {
   "cell_type": "code",
   "execution_count": null,
   "id": "4",
   "metadata": {},
   "outputs": [],
   "source": []
  }
 ],
 "metadata": {
  "kernelspec": {
   "display_name": "Python 3 (ipykernel)",
   "language": "python",
   "name": "python3"
  },
  "language_info": {
   "codemirror_mode": {
    "name": "ipython",
    "version": 3
   },
   "file_extension": ".py",
   "mimetype": "text/x-python",
   "name": "python",
   "nbconvert_exporter": "python",
   "pygments_lexer": "ipython3",
   "version": "3.13.1"
  }
 },
 "nbformat": 4,
 "nbformat_minor": 5
}
