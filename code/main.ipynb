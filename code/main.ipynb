{
 "cells": [
  {
   "cell_type": "code",
   "execution_count": null,
   "id": "0",
   "metadata": {},
   "outputs": [],
   "source": [
    "from ca_lecture_hall_model import Grid, show_lecture_hall_over_time"
   ]
  },
  {
   "cell_type": "code",
   "execution_count": null,
   "id": "1",
   "metadata": {},
   "outputs": [],
   "source": [
    "# Generate a grid for given size, density and spread threshold\n",
    "size = 20\n",
    "density = 0.7\n",
    "spread_threshold = 0.3\n",
    "\n",
    "g = Grid(size, density, spread_threshold)"
   ]
  },
  {
   "cell_type": "code",
   "execution_count": null,
   "id": "2",
   "metadata": {},
   "outputs": [],
   "source": [
    "g.initialize_board()\n",
    "results = g.run_simulation()"
   ]
  },
  {
   "cell_type": "markdown",
   "id": "3",
   "metadata": {},
   "source": [
    "### check_percolation function testing "
   ]
  },
  {
   "cell_type": "code",
   "execution_count": null,
   "id": "4",
   "metadata": {},
   "outputs": [],
   "source": [
    "g.show_grid()\n",
    "g.generate_gif()\n",
    "if g.check_percolation():\n",
    "    print(\"percolation done\")\n",
    "else:\n",
    "    print(\"percolation not done\")"
   ]
  },
  {
   "cell_type": "markdown",
   "id": "5",
   "metadata": {},
   "source": [
    "### Animated visualisation testing"
   ]
  },
  {
   "cell_type": "code",
   "execution_count": null,
   "id": "6",
   "metadata": {},
   "outputs": [],
   "source": [
    "# Generate a grid for given size, density and spread threshold\n",
    "size = 20\n",
    "density = 0.7\n",
    "spread_threshold = 0.2\n",
    "steps = 100\n",
    "\n",
    "g = Grid(size, density, spread_threshold)\n",
    "g.initialize_board()\n",
    "grids = g.run_simulation(steps)\n",
    "\n",
    "show_lecture_hall_over_time(grids)"
   ]
  }
 ],
 "metadata": {
  "kernelspec": {
   "display_name": "Python 3 (ipykernel)",
   "language": "python",
   "name": "python3"
  },
  "language_info": {
   "codemirror_mode": {
    "name": "ipython",
    "version": 3
   },
   "file_extension": ".py",
   "mimetype": "text/x-python",
   "name": "python",
   "nbconvert_exporter": "python",
   "pygments_lexer": "ipython3",
   "version": "3.13.1"
  }
 },
 "nbformat": 4,
 "nbformat_minor": 5
}
