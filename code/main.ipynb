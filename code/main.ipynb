{
 "cells": [
  {
   "cell_type": "code",
   "execution_count": null,
   "id": "0",
   "metadata": {},
   "outputs": [],
   "source": [
    "from ca_lecture_hall_model import (\n",
    "    Grid,\n",
    "    show_lecture_hall_over_time,\n",
    "    simulate_and_plot_gossip_model_all_combinations,\n",
    ")\n",
    "from visualisation import plot_status_counts\n",
    "from simulation import count_statuses, run_simulation"
   ]
  },
  {
   "cell_type": "code",
   "execution_count": null,
   "id": "1",
   "metadata": {},
   "outputs": [],
   "source": [
    "# Generate a grid for given size, density and spread threshold\n",
    "size = 20\n",
    "density = 0.7\n",
    "spread_threshold = 0.3\n",
    "\n",
    "g = Grid(size, density, spread_threshold)"
   ]
  },
  {
   "cell_type": "code",
   "execution_count": null,
   "id": "2",
   "metadata": {},
   "outputs": [],
   "source": [
    "g.initialize_board()\n",
    "results = run_simulation(g)"
   ]
  },
  {
   "cell_type": "markdown",
   "id": "3",
   "metadata": {},
   "source": [
    "### check_percolation function testing "
   ]
  },
  {
   "cell_type": "code",
   "execution_count": null,
   "id": "4",
   "metadata": {},
   "outputs": [],
   "source": [
    "g.show_grid()\n",
    "g.generate_gif()\n",
    "if g.check_percolation():\n",
    "    print(\"percolation done\")\n",
    "else:\n",
    "    print(\"percolation not done\")"
   ]
  },
  {
   "cell_type": "markdown",
   "id": "5",
   "metadata": {},
   "source": [
    "### Animated visualisation testing"
   ]
  },
  {
   "cell_type": "code",
   "execution_count": null,
   "id": "6",
   "metadata": {},
   "outputs": [],
   "source": [
    "# Generate a grid for given size, density and spread threshold\n",
    "size = 20\n",
    "density = 0.7\n",
    "spread_threshold = 0.2\n",
    "steps = 100\n",
    "\n",
    "g = Grid(size, density, spread_threshold)\n",
    "g.initialize_board()\n",
    "grids = run_simulation(g, steps)\n",
    "\n",
    "show_lecture_hall_over_time(grids)"
   ]
  },
  {
   "cell_type": "markdown",
   "id": "7",
   "metadata": {},
   "source": [
    "### Time series plot for status"
   ]
  },
  {
   "cell_type": "code",
   "execution_count": null,
   "id": "8",
   "metadata": {},
   "outputs": [],
   "source": [
    "# Parameters\n",
    "size = 20\n",
    "density = 0.9\n",
    "spread_threshold = 0.1\n",
    "steps = 50\n",
    "\n",
    "g = Grid(size, density, spread_threshold)\n",
    "g.initialize_board()\n",
    "\n",
    "grids = run_simulation(g, steps)\n",
    "\n",
    "status_counts = count_statuses(grids)\n",
    "plot_status_counts(status_counts)\n",
    "g.generate_gif(steps=steps, gif_name=\"spread_simulation.gif\")"
   ]
  },
  {
   "cell_type": "markdown",
   "id": "9",
   "metadata": {},
   "source": [
    "### Testing cluster size distribution in log-log diagram"
   ]
  },
  {
   "cell_type": "code",
   "execution_count": null,
   "id": "10",
   "metadata": {},
   "outputs": [],
   "source": [
    "grid_size = 20\n",
    "densities = [0.3, 0.5, 0.6]\n",
    "spread_thresholds = [\n",
    "    0.2,\n",
    "    0.4,\n",
    "    0.5,\n",
    "]\n",
    "num_simulations = 1000\n",
    "flag_center = 1  # initial spreader in the center\n",
    "\n",
    "simulate_and_plot_gossip_model_all_combinations(\n",
    "    grid_size, densities, spread_thresholds, num_simulations, flag_center\n",
    ")"
   ]
  },
  {
   "cell_type": "markdown",
   "id": "11",
   "metadata": {},
   "source": []
  }
 ],
 "metadata": {
  "kernelspec": {
   "display_name": "Python 3 (ipykernel)",
   "language": "python",
   "name": "python3"
  },
  "language_info": {
   "codemirror_mode": {
    "name": "ipython",
    "version": 3
   },
   "file_extension": ".py",
   "mimetype": "text/x-python",
   "name": "python",
   "nbconvert_exporter": "python",
   "pygments_lexer": "ipython3",
   "version": "3.13.1"
  }
 },
 "nbformat": 4,
 "nbformat_minor": 5
}
