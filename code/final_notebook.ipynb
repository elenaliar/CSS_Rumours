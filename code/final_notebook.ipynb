{
 "cells": [
  {
   "cell_type": "markdown",
   "metadata": {},
   "source": [
    "# Notebook for generating of visualizations"
   ]
  },
  {
   "cell_type": "markdown",
   "metadata": {},
   "source": [
    "## Videos"
   ]
  },
  {
   "cell_type": "code",
   "execution_count": null,
   "metadata": {},
   "outputs": [],
   "source": [
    "from visualisation import simulate_and_create_video\n",
    "\n",
    "grid_size = 20\n",
    "density = 0.99\n",
    "bond_probability = 0.4\n",
    "\n",
    "simulate_and_create_video(grid_size, density, bond_probability)"
   ]
  },
  {
   "cell_type": "code",
   "execution_count": null,
   "metadata": {},
   "outputs": [],
   "source": [
    "from visualisation import simulate_and_create_video\n",
    "\n",
    "grid_size = 20\n",
    "density = 0.8\n",
    "bond_probability = 0.7\n",
    "\n",
    "simulate_and_create_video(grid_size, density, bond_probability)"
   ]
  },
  {
   "cell_type": "code",
   "execution_count": null,
   "metadata": {},
   "outputs": [],
   "source": [
    "from visualisation import simulate_and_create_video\n",
    "\n",
    "grid_size = 20\n",
    "density = 0.8\n",
    "bond_probability = 0.7\n",
    "\n",
    "simulate_and_create_video(grid_size, density, bond_probability, flag_neighbors=1)"
   ]
  },
  {
   "cell_type": "markdown",
   "metadata": {},
   "source": [
    "## Von Neumann neighbourhood and initial spreader in the center"
   ]
  },
  {
   "cell_type": "markdown",
   "metadata": {},
   "source": [
    "### Show the site percolation threshold\n",
    "\n",
    "If we want to test the classical site percolation, then we can set the bond probability to 1 which means that every bond is open\n",
    "and we only measure how the density, i.e. how many cells are occupied, affects the probability of percolation occuring."
   ]
  },
  {
   "cell_type": "code",
   "execution_count": null,
   "metadata": {},
   "outputs": [],
   "source": [
    "from visualisation import plot_percolation_vs_density\n",
    "\n",
    "grid_size = 20\n",
    "bond_probability = 1\n",
    "\n",
    "plot_percolation_vs_density(\n",
    "    grid_size,\n",
    "    bond_probability,\n",
    "    num_simulations=300,\n",
    "    save=True,\n",
    "    filename=\"percolation_density_central_vn.png\",\n",
    ")"
   ]
  },
  {
   "cell_type": "markdown",
   "metadata": {},
   "source": [
    "### Show the bond percolation threshold\n",
    "\n",
    "If we want to test the classical bond percolation, then we can set the density to 1, which means each cell is occupied\n",
    "and we only measure how the bond probability, i.e. how many bonds are open,  affects the probability of percolation occuring.\n"
   ]
  },
  {
   "cell_type": "code",
   "execution_count": null,
   "metadata": {},
   "outputs": [],
   "source": [
    "from visualisation import plot_percolation_vs_bond_probability\n",
    "\n",
    "grid_size = 20\n",
    "density = 1\n",
    "\n",
    "plot_percolation_vs_bond_probability(\n",
    "    grid_size,\n",
    "    density,\n",
    "    num_simulations=300,\n",
    "    save=True,\n",
    "    filename=\"percolation_bond_prob_central_vn.png\",\n",
    ")"
   ]
  },
  {
   "cell_type": "markdown",
   "metadata": {},
   "source": [
    "### Show the density percolation threshold for different bond probabilities\n"
   ]
  },
  {
   "cell_type": "code",
   "execution_count": null,
   "metadata": {},
   "outputs": [],
   "source": [
    "from visualisation import plot_percolation_vs_density_vs_bond_probability\n",
    "\n",
    "grid_size = 20\n",
    "\n",
    "plot_percolation_vs_density_vs_bond_probability(\n",
    "    grid_size,\n",
    "    num_simulations=300,\n",
    "    save=True,\n",
    "    filename=\"percolation_density_bond_central_vn.png\",\n",
    ")"
   ]
  },
  {
   "cell_type": "markdown",
   "metadata": {},
   "source": [
    "## 3d plot for percolation vs density vs bond probability"
   ]
  },
  {
   "cell_type": "code",
   "execution_count": null,
   "metadata": {},
   "outputs": [],
   "source": [
    "from visualisation import plot_3d_percolation_vs_density_and_bond_probability\n",
    "\n",
    "grid_size = 20\n",
    "\n",
    "plot_3d_percolation_vs_density_and_bond_probability(\n",
    "    grid_size, save=True, filename=\"3d_percolation.png\"\n",
    ")"
   ]
  },
  {
   "cell_type": "markdown",
   "metadata": {},
   "source": [
    "## 3d plot for amount of gossip spreaders vs density vs bond probability"
   ]
  },
  {
   "cell_type": "code",
   "execution_count": null,
   "metadata": {},
   "outputs": [],
   "source": [
    "from visualisation import plot_3d_gossip_spreader_counts\n",
    "\n",
    "grid_size = 20\n",
    "\n",
    "plot_3d_gossip_spreader_counts(grid_size, save=True, filename=\"3d_gossipers.png\")"
   ]
  },
  {
   "cell_type": "markdown",
   "metadata": {},
   "source": [
    "## Moore neighbourhood"
   ]
  },
  {
   "cell_type": "code",
   "execution_count": null,
   "metadata": {},
   "outputs": [],
   "source": [
    "from visualisation import plot_percolation_vs_density\n",
    "\n",
    "grid_size = 20\n",
    "bond_probability = 1\n",
    "\n",
    "plot_percolation_vs_density(\n",
    "    grid_size,\n",
    "    bond_probability,\n",
    "    num_simulations=300,\n",
    "    flag_neighbors=1,\n",
    "    save=True,\n",
    "    filename=\"percolation_density_central_moore.png\",\n",
    ")"
   ]
  },
  {
   "cell_type": "code",
   "execution_count": null,
   "metadata": {},
   "outputs": [],
   "source": [
    "from visualisation import plot_percolation_vs_bond_probability\n",
    "\n",
    "grid_size = 20\n",
    "density = 1\n",
    "\n",
    "plot_percolation_vs_bond_probability(\n",
    "    grid_size,\n",
    "    density,\n",
    "    num_simulations=300,\n",
    "    flag_neighbors=1,\n",
    "    save=True,\n",
    "    filename=\"percolation_bond_probability_central_moore.png\",\n",
    ")"
   ]
  },
  {
   "cell_type": "code",
   "execution_count": null,
   "metadata": {},
   "outputs": [],
   "source": [
    "from visualisation import plot_percolation_vs_density_vs_bond_probability\n",
    "\n",
    "grid_size = 20\n",
    "\n",
    "plot_percolation_vs_density_vs_bond_probability(\n",
    "    grid_size,\n",
    "    num_simulations=300,\n",
    "    flag_neighbors=1,\n",
    "    save=True,\n",
    "    filename=\"percolation_density_bond_central_moore.png\",\n",
    ")"
   ]
  },
  {
   "cell_type": "markdown",
   "metadata": {},
   "source": [
    "## Initial position not in center"
   ]
  },
  {
   "cell_type": "code",
   "execution_count": null,
   "metadata": {},
   "outputs": [],
   "source": [
    "from visualisation import plot_percolation_vs_density\n",
    "\n",
    "grid_size = 20\n",
    "bond_probability = 1\n",
    "\n",
    "plot_percolation_vs_density(\n",
    "    grid_size,\n",
    "    bond_probability,\n",
    "    num_simulations=300,\n",
    "    flag_center=0,\n",
    "    save=True,\n",
    "    filename=\"percolation_vs_density_edge_vn.png\",\n",
    ")"
   ]
  },
  {
   "cell_type": "code",
   "execution_count": null,
   "metadata": {},
   "outputs": [],
   "source": [
    "from visualisation import plot_percolation_vs_bond_probability\n",
    "\n",
    "grid_size = 20\n",
    "density = 1\n",
    "\n",
    "plot_percolation_vs_bond_probability(\n",
    "    grid_size,\n",
    "    density,\n",
    "    num_simulations=300,\n",
    "    flag_center=0,\n",
    "    save=True,\n",
    "    filename=\"percolation_vs_bond_probability_edge_vn.png\",\n",
    ")"
   ]
  },
  {
   "cell_type": "code",
   "execution_count": null,
   "metadata": {},
   "outputs": [],
   "source": [
    "from visualisation import plot_percolation_vs_density_vs_bond_probability\n",
    "\n",
    "grid_size = 20\n",
    "\n",
    "plot_percolation_vs_density_vs_bond_probability(\n",
    "    grid_size,\n",
    "    num_simulations=300,\n",
    "    flag_center=0,\n",
    "    save=True,\n",
    "    filename=\"percolation_vs_density_vs_bond_probability_edge_vn.png\",\n",
    ")"
   ]
  },
  {
   "cell_type": "markdown",
   "metadata": {},
   "source": [
    "## Time series with standard variation"
   ]
  },
  {
   "cell_type": "code",
   "execution_count": null,
   "metadata": {},
   "outputs": [],
   "source": [
    "from visualisation import plot_time_status\n",
    "import matplotlib.pyplot as plt\n",
    "from tqdm import tqdm\n",
    "\n",
    "\n",
    "densities = [0.5, 0.6, 0.8, 1]\n",
    "bond_probabilities = [0.4, 0.5, 0.6, 0.8, 1]\n",
    "grid_size = 20\n",
    "num_simulation = 600\n",
    "steps = 100\n",
    "x_limits = (0, steps - 20)\n",
    "y_limits = (0, grid_size * grid_size + 10)\n",
    "\n",
    "# Von Neumann neighborhood\n",
    "print(\"Simulations for von Neumann neighborhood and central initial position\")\n",
    "fig, axs = plt.subplots(4, 5, figsize=(14, 12), constrained_layout=True)\n",
    "fig.suptitle(\"Status counts over time (von Neumann neighborhood)\", fontsize=24, y=1.1)\n",
    "index = 0\n",
    "flag_center = 1\n",
    "for i, density in tqdm(\n",
    "    enumerate(densities), desc=\"Simulating densities\", total=len(densities)\n",
    "):\n",
    "    for j, bond_probability in enumerate(bond_probabilities):\n",
    "        ax = axs[i, j]\n",
    "        plot_time_status(\n",
    "            ax,\n",
    "            grid_size,\n",
    "            density,\n",
    "            bond_probability,\n",
    "            steps,\n",
    "            num_simulation,\n",
    "            x_limits,\n",
    "            y_limits,\n",
    "            flag_center,\n",
    "            flag_neighbors=0,\n",
    "        )\n",
    "        index += 1\n",
    "\n",
    "handles, labels = axs[0, 0].get_legend_handles_labels()\n",
    "fig.legend(\n",
    "    handles,\n",
    "    labels,\n",
    "    loc=\"upper center\",\n",
    "    fontsize=14,\n",
    "    ncol=4,\n",
    "    bbox_to_anchor=(0.5, 1.05),\n",
    "    frameon=False,\n",
    ")\n",
    "\n",
    "\n",
    "plt.savefig(\"status_over_time_vn_v2.png\", dpi=300, bbox_inches=\"tight\")\n",
    "\n",
    "plt.show()"
   ]
  },
  {
   "cell_type": "code",
   "execution_count": null,
   "metadata": {},
   "outputs": [],
   "source": [
    "from visualisation import plot_time_status\n",
    "import matplotlib.pyplot as plt\n",
    "from tqdm import tqdm\n",
    "\n",
    "\n",
    "densities = [0.5, 0.6, 0.8, 1]\n",
    "bond_probabilities = [0.4, 0.5, 0.6, 0.8, 1]\n",
    "grid_size = 20\n",
    "num_simulation = 600\n",
    "steps = 100\n",
    "x_limits = (0, steps - 20)\n",
    "y_limits = (0, grid_size * grid_size + 10)\n",
    "\n",
    "# Moore neighborhood\n",
    "print(\"Simulations for Moore neighborhood and central initial position\")\n",
    "fig, axs = plt.subplots(4, 5, figsize=(14, 12), constrained_layout=True)\n",
    "fig.suptitle(\"Status counts over time (Moore neighborhood)\", fontsize=24, y=1.1)\n",
    "index = 0\n",
    "flag_center = 1\n",
    "for i, density in tqdm(\n",
    "    enumerate(densities), desc=\"Simulating densities\", total=len(densities)\n",
    "):\n",
    "    for j, bond_probability in enumerate(bond_probabilities):\n",
    "        ax = axs[i, j]\n",
    "        plot_time_status(\n",
    "            ax,\n",
    "            grid_size,\n",
    "            density,\n",
    "            bond_probability,\n",
    "            steps,\n",
    "            num_simulation,\n",
    "            x_limits,\n",
    "            y_limits,\n",
    "            flag_center,\n",
    "            flag_neighbors=1,\n",
    "        )\n",
    "        index += 1\n",
    "\n",
    "handles, labels = axs[0, 0].get_legend_handles_labels()\n",
    "fig.legend(\n",
    "    handles,\n",
    "    labels,\n",
    "    loc=\"upper center\",\n",
    "    fontsize=14,\n",
    "    ncol=4,\n",
    "    bbox_to_anchor=(0.5, 1.05),\n",
    "    frameon=False,\n",
    ")\n",
    "\n",
    "plt.savefig(\"status_over_time_moore_v2.png\", dpi=300, bbox_inches=\"tight\")\n",
    "\n",
    "plt.show()"
   ]
  },
  {
   "cell_type": "markdown",
   "metadata": {},
   "source": [
    "## Power law"
   ]
  },
  {
   "cell_type": "code",
   "execution_count": null,
   "metadata": {},
   "outputs": [],
   "source": [
    "import numpy as np\n",
    "from simulation import run_simulation\n",
    "from ca_lecture_hall_model import Grid, Status\n",
    "from tqdm import tqdm\n",
    "\n",
    "grid_size = 20\n",
    "densities = np.geomspace(0.59, 1, 20)\n",
    "bond_probability = 1\n",
    "num_simulation = 600\n",
    "\n",
    "cluster_sizes_master_list = []\n",
    "\n",
    "for density in tqdm(densities, desc=\"Simulating densities\"):\n",
    "    cluster_sizes = []\n",
    "    for _ in range(num_simulation):\n",
    "        g = Grid(grid_size, density, bond_probability)\n",
    "        g.initialize_board(flag_center=1, flag_neighbors=0)\n",
    "\n",
    "        grids = run_simulation(g, steps=1000, flag_neighbors=0)\n",
    "\n",
    "        last_grid = grids[-1]\n",
    "\n",
    "        cluster_size = 0\n",
    "\n",
    "        for i in range(grid_size):\n",
    "            for j in range(grid_size):\n",
    "                if last_grid.lecture_hall[i][j].status == Status.GOSSIP_SPREADER:\n",
    "                    cluster_size += 1\n",
    "\n",
    "        cluster_sizes.append(cluster_size)\n",
    "\n",
    "    cluster_sizes_master_list.append(cluster_sizes)"
   ]
  },
  {
   "cell_type": "code",
   "execution_count": null,
   "metadata": {},
   "outputs": [],
   "source": [
    "import matplotlib.pyplot as plt\n",
    "from ca_lecture_hall_model import Colors\n",
    "\n",
    "critical_density = 0.59\n",
    "\n",
    "cluster_sizes_per_simulation = np.transpose(np.array(cluster_sizes_master_list))\n",
    "\n",
    "# Apply logarithmic transformation\n",
    "log_densities = np.log10(\n",
    "    np.array(densities) - np.array([critical_density for _ in range(len(densities))])\n",
    ")\n",
    "\n",
    "log_simulation = np.log10(np.mean(cluster_sizes_per_simulation, axis=0) / 400)\n",
    "\n",
    "# Plot the log-log graph\n",
    "plt.plot(\n",
    "    log_densities,\n",
    "    log_simulation,\n",
    "    color=Colors.DARK_PINK.value,\n",
    "    marker=\".\",\n",
    "    linestyle=\"none\",\n",
    ")\n",
    "\n",
    "plt.xlabel(\"log10(density - critical density)\")\n",
    "plt.ylabel(r\"$\\log_{10}(P_{\\infty})$\")\n",
    "plt.title(\"Log-log plot of the cluster size vs density\")\n",
    "\n",
    "plt.savefig(\"power_law.png\", dpi=300)"
   ]
  },
  {
   "cell_type": "markdown",
   "metadata": {},
   "source": [
    "---\n",
    "\n",
    "### Previous Study about how the initial position of spreader affects the percolation and make function to keep track of how fast percolation is achieved\n",
    "\n",
    "But the output didn't fulfill our expectation that for the steps/distances, the center initial spreader may have a better behaviour than the edge.\n",
    "\n",
    "As the grid is a uniformly distributed lattice, and the size isn't big enough, therefore we can't see the initial spreader position's effect on the time/steps/distances to percolation."
   ]
  },
  {
   "cell_type": "code",
   "execution_count": null,
   "metadata": {},
   "outputs": [],
   "source": [
    "from simulation import simulate_initial_spreader_with_bond_probability\n",
    "from visualisation import (\n",
    "    plot_spreader_effect,\n",
    "    plot_distance_vs_steps,\n",
    "    plot_distance_vs_percolation_heatmap,\n",
    ")\n",
    "from ca_lecture_hall_model import Grid, Status\n",
    "import numpy as np\n",
    "import matplotlib.pyplot as plt\n",
    "from tqdm import tqdm\n",
    "\n",
    "size = 20\n",
    "density = 0.6\n",
    "bond_probability = 1\n",
    "steps = 100\n",
    "\n",
    "initial_positions = [(i, j) for i in range(size) for j in range(size)]\n",
    "results = simulate_initial_spreader_with_bond_probability(\n",
    "    size, density, bond_probability, steps, initial_positions\n",
    ")\n",
    "\n",
    "\n",
    "plot_spreader_effect(results)\n",
    "plot_distance_vs_steps(results, size)\n",
    "plot_distance_vs_percolation_heatmap(results, size)"
   ]
  }
 ],
 "metadata": {
  "kernelspec": {
   "display_name": "Python 3 (ipykernel)",
   "language": "python",
   "name": "python3"
  },
  "language_info": {
   "codemirror_mode": {
    "name": "ipython",
    "version": 3
   },
   "file_extension": ".py",
   "mimetype": "text/x-python",
   "name": "python",
   "nbconvert_exporter": "python",
   "pygments_lexer": "ipython3",
   "version": "3.12.4"
  }
 },
 "nbformat": 4,
 "nbformat_minor": 4
}
