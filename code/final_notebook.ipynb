{
 "cells": [
  {
   "cell_type": "markdown",
   "metadata": {},
   "source": [
    "## Notebook for generating of visualations"
   ]
  },
  {
   "cell_type": "markdown",
   "metadata": {},
   "source": [
    "### Show the site percolation threshold\n",
    "\n",
    "If we want to test the classical site percolation, then we can set the bond probability to 1 which means that every bond is open\n",
    "and we only measure how the density, i.e. how many cells are occupied, affects the probability of percolation occuring."
   ]
  },
  {
   "cell_type": "code",
   "execution_count": null,
   "metadata": {},
   "outputs": [],
   "source": [
    "from visualisation import plot_percolation_vs_density\n",
    "\n",
    "grid_size = 20\n",
    "bond_probability = 1\n",
    "\n",
    "plot_percolation_vs_density(grid_size, bond_probability)"
   ]
  },
  {
   "cell_type": "markdown",
   "metadata": {},
   "source": [
    "### Show the bond percolation threshold\n",
    "\n",
    "If we want to test the classical bond percolation, then we can set the density to 1, which means each cell is occupied\n",
    "and we only measure how the bond probability, i.e. how many bonds are open,  affects the probability of percolation occuring.\n"
   ]
  },
  {
   "cell_type": "code",
   "execution_count": null,
   "metadata": {},
   "outputs": [],
   "source": [
    "from visualisation import plot_percolation_vs_bond_probability\n",
    "\n",
    "grid_size = 20\n",
    "density = 1\n",
    "\n",
    "plot_percolation_vs_bond_probability(grid_size, density)"
   ]
  },
  {
   "cell_type": "markdown",
   "metadata": {},
   "source": [
    "### Show the density percolation threshold for different bond probabilities\n"
   ]
  },
  {
   "cell_type": "code",
   "execution_count": null,
   "metadata": {},
   "outputs": [],
   "source": [
    "from visualisation import plot_percolation_vs_density_vs_bond_probability\n",
    "\n",
    "grid_size = 20\n",
    "\n",
    "plot_percolation_vs_density_vs_bond_probability(grid_size)"
   ]
  },
  {
   "cell_type": "markdown",
   "metadata": {},
   "source": [
    "## 3d plot for percolation vs density vs bond probability"
   ]
  },
  {
   "cell_type": "code",
   "execution_count": null,
   "metadata": {},
   "outputs": [],
   "source": [
    "from visualisation import plot_3d_percolation_vs_density_and_bond_probability\n",
    "\n",
    "grid_size = 20\n",
    "\n",
    "plot_3d_percolation_vs_density_and_bond_probability(grid_size)"
   ]
  },
  {
   "cell_type": "code",
   "execution_count": null,
   "metadata": {},
   "outputs": [],
   "source": []
  }
 ],
 "metadata": {
  "kernelspec": {
   "display_name": "Python 3",
   "language": "python",
   "name": "python3"
  },
  "language_info": {
   "codemirror_mode": {
    "name": "ipython",
    "version": 3
   },
   "file_extension": ".py",
   "mimetype": "text/x-python",
   "name": "python",
   "nbconvert_exporter": "python",
   "pygments_lexer": "ipython3",
   "version": "3.13.1"
  }
 },
 "nbformat": 4,
 "nbformat_minor": 2
}
